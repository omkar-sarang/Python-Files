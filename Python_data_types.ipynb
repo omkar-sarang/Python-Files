{
 "cells": [
  {
   "cell_type": "code",
   "execution_count": null,
   "id": "a10367ae-92b5-4293-84c4-274ba3a24494",
   "metadata": {},
   "outputs": [],
   "source": [
    "Data types in python"
   ]
  },
  {
   "cell_type": "code",
   "execution_count": null,
   "id": "e7909a02-e5c5-47dd-b194-e57887827493",
   "metadata": {},
   "outputs": [],
   "source": [
    "Numeric - int,float,complex\n",
    "String - str\n",
    "Sequence - list, tuple, range\n",
    "Mapping - dict\n",
    "Booolean - bool\n",
    "Set - set,frozenset\n"
   ]
  },
  {
   "cell_type": "code",
   "execution_count": null,
   "id": "6d3a0e4e-e479-4969-9074-7e8d2eb86e82",
   "metadata": {},
   "outputs": [],
   "source": [
    "We can use the type() function to know which class a variable or a value belongs to"
   ]
  },
  {
   "cell_type": "code",
   "execution_count": 1,
   "id": "88afdb8d-c73f-4804-91d0-72c4514c8365",
   "metadata": {},
   "outputs": [
    {
     "data": {
      "text/plain": [
       "int"
      ]
     },
     "execution_count": 1,
     "metadata": {},
     "output_type": "execute_result"
    }
   ],
   "source": [
    "num1 = 5\n",
    "type(num1)"
   ]
  },
  {
   "cell_type": "code",
   "execution_count": 2,
   "id": "c353109e-f359-4b6e-a5b1-8b52e5a4c9a6",
   "metadata": {},
   "outputs": [
    {
     "data": {
      "text/plain": [
       "float"
      ]
     },
     "execution_count": 2,
     "metadata": {},
     "output_type": "execute_result"
    }
   ],
   "source": [
    "num2 = 5.4\n",
    "type(num2)"
   ]
  },
  {
   "cell_type": "code",
   "execution_count": 3,
   "id": "e635674b-ea61-41c8-89bd-0c068111c7c8",
   "metadata": {},
   "outputs": [
    {
     "data": {
      "text/plain": [
       "complex"
      ]
     },
     "execution_count": 3,
     "metadata": {},
     "output_type": "execute_result"
    }
   ],
   "source": [
    "num3 = 1+2j\n",
    "type(num3)"
   ]
  },
  {
   "cell_type": "code",
   "execution_count": null,
   "id": "df9b507b-20b1-4226-b766-49962013ec10",
   "metadata": {},
   "outputs": [],
   "source": [
    "List Data type-"
   ]
  },
  {
   "cell_type": "code",
   "execution_count": 5,
   "id": "4139ef7d-dabf-4e3f-854a-3abdb68597f3",
   "metadata": {},
   "outputs": [
    {
     "data": {
      "text/plain": [
       "list"
      ]
     },
     "execution_count": 5,
     "metadata": {},
     "output_type": "execute_result"
    }
   ],
   "source": [
    "Languages = [\"java\",\"python\",\"scala\"]\n",
    "type(Languages)"
   ]
  },
  {
   "cell_type": "code",
   "execution_count": null,
   "id": "5b24c440-ba80-4431-8bb5-240f08ec92e8",
   "metadata": {},
   "outputs": [],
   "source": [
    "🚩Accessing elements of a list "
   ]
  },
  {
   "cell_type": "code",
   "execution_count": 6,
   "id": "e985bfc6-cf29-4f53-9daf-ff545c65b707",
   "metadata": {},
   "outputs": [
    {
     "data": {
      "text/plain": [
       "'java'"
      ]
     },
     "execution_count": 6,
     "metadata": {},
     "output_type": "execute_result"
    }
   ],
   "source": [
    "firstElement = Languages[0]\n",
    "firstElement"
   ]
  },
  {
   "cell_type": "code",
   "execution_count": null,
   "id": "483550d5-5e3c-45a1-a555-1d1d105c45d8",
   "metadata": {},
   "outputs": [],
   "source": [
    "Charecteristics of Lists:\n",
    "Ordered - They maintain order of list\n",
    "Mutable - Items can be changed after creation\n",
    "Allow Duplicates - They can contain duplicate values"
   ]
  },
  {
   "cell_type": "code",
   "execution_count": null,
   "id": "25409f49-1df3-4738-b461-607cebeea745",
   "metadata": {},
   "outputs": [],
   "source": [
    "🚩Accessing elements part 2"
   ]
  },
  {
   "cell_type": "code",
   "execution_count": null,
   "id": "3c8b220e-1faf-4274-99a6-5801c55ab233",
   "metadata": {},
   "outputs": [],
   "source": [
    "Negative Indexing\n",
    "The index of last element is -1\n",
    "It helps to access list items from last"
   ]
  },
  {
   "cell_type": "code",
   "execution_count": 7,
   "id": "a90d3dd6-d3f0-4954-84a1-c56a67bcacb6",
   "metadata": {},
   "outputs": [
    {
     "data": {
      "text/plain": [
       "'python'"
      ]
     },
     "execution_count": 7,
     "metadata": {},
     "output_type": "execute_result"
    }
   ],
   "source": [
    "Languages[-2]"
   ]
  },
  {
   "cell_type": "code",
   "execution_count": null,
   "id": "232c61af-0351-45f8-b998-cf7f47475942",
   "metadata": {},
   "outputs": [],
   "source": [
    "❗️If the specified index does not exist in a list, Python throws the IndexError exception."
   ]
  },
  {
   "cell_type": "code",
   "execution_count": null,
   "id": "52e41699-8808-4db6-9f0f-ae4e661ed24b",
   "metadata": {},
   "outputs": [],
   "source": [
    "🚩 Slicing of list in Python"
   ]
  },
  {
   "cell_type": "code",
   "execution_count": 9,
   "id": "1ff640c4-8b23-40d5-b327-65820a9fd340",
   "metadata": {},
   "outputs": [
    {
     "data": {
      "text/plain": [
       "['p', 'r', 'o', 'g', 'r', 'a', 'm']"
      ]
     },
     "execution_count": 9,
     "metadata": {},
     "output_type": "execute_result"
    }
   ],
   "source": [
    "my_list = ['p','r','o','g','r','a','m']\n",
    "\n",
    "\n",
    "#items beginning to end\n",
    "my_list[:]"
   ]
  },
  {
   "cell_type": "code",
   "execution_count": 10,
   "id": "399405f4-2c9c-41d7-ba8b-d79061840e44",
   "metadata": {},
   "outputs": [
    {
     "data": {
      "text/plain": [
       "['o', 'g', 'r']"
      ]
     },
     "execution_count": 10,
     "metadata": {},
     "output_type": "execute_result"
    }
   ],
   "source": [
    "#items from index from 2 to 4\n",
    "my_list[2:5]"
   ]
  },
  {
   "cell_type": "code",
   "execution_count": 11,
   "id": "879e0154-5691-4f66-b717-b15bec837c93",
   "metadata": {},
   "outputs": [
    {
     "data": {
      "text/plain": [
       "['a', 'm']"
      ]
     },
     "execution_count": 11,
     "metadata": {},
     "output_type": "execute_result"
    }
   ],
   "source": [
    "#items from index 5 to end\n",
    "my_list[5:]"
   ]
  },
  {
   "cell_type": "code",
   "execution_count": null,
   "id": "524fa418-1678-48ff-8fe9-cca7a0013cc0",
   "metadata": {},
   "outputs": [],
   "source": [
    "Adding elements to a list"
   ]
  },
  {
   "cell_type": "raw",
   "id": "10175db7-e8e5-45f1-80e1-6c35bf77fe38",
   "metadata": {},
   "source": [
    "fruits = ['Banana','cherry','mango']\n",
    "fruis"
   ]
  },
  {
   "cell_type": "code",
   "execution_count": 12,
   "id": "7f014c46-2548-49c7-9664-a5f3d45ae1e4",
   "metadata": {},
   "outputs": [
    {
     "data": {
      "text/plain": [
       "['Banana', 'cherry', 'mango']"
      ]
     },
     "execution_count": 12,
     "metadata": {},
     "output_type": "execute_result"
    }
   ],
   "source": [
    "fruits = ['Banana','cherry','mango']\n",
    "fruits"
   ]
  },
  {
   "cell_type": "code",
   "execution_count": 25,
   "id": "1dfc53fa-4429-4286-9671-aff58fe85309",
   "metadata": {},
   "outputs": [
    {
     "data": {
      "text/plain": [
       "['Banana',\n",
       " 'cherry',\n",
       " 'mango',\n",
       " 'oranges',\n",
       " 'oranges',\n",
       " 'oranges',\n",
       " 'oranges',\n",
       " 'oranges',\n",
       " 'oranges',\n",
       " 'oranges',\n",
       " 'oranges']"
      ]
     },
     "execution_count": 25,
     "metadata": {},
     "output_type": "execute_result"
    }
   ],
   "source": [
    "fruits.append('oranges')\n",
    "fruits"
   ]
  },
  {
   "cell_type": "code",
   "execution_count": null,
   "id": "1cc0b203-cbe1-4571-949f-71c3f696b836",
   "metadata": {},
   "outputs": [],
   "source": [
    "🚩Adding elements to list at specified position"
   ]
  },
  {
   "cell_type": "code",
   "execution_count": 26,
   "id": "f5872af5-f975-413a-8b6b-d087c8621381",
   "metadata": {},
   "outputs": [
    {
     "data": {
      "text/plain": [
       "['Banana',\n",
       " 'cherry',\n",
       " 'mango',\n",
       " 'oranges',\n",
       " 'oranges',\n",
       " 'oranges',\n",
       " 'oranges',\n",
       " 'oranges',\n",
       " 'oranges',\n",
       " 'oranges',\n",
       " 'oranges']"
      ]
     },
     "execution_count": 26,
     "metadata": {},
     "output_type": "execute_result"
    }
   ],
   "source": [
    "fruits"
   ]
  },
  {
   "cell_type": "raw",
   "id": "1d0e2025-f0ce-406b-9920-229db6941437",
   "metadata": {},
   "source": [
    "fruits.remove('oranges')"
   ]
  },
  {
   "cell_type": "code",
   "execution_count": 29,
   "id": "8991de8b-ea28-4085-a724-117a14050de9",
   "metadata": {},
   "outputs": [],
   "source": [
    "fruits.remove('oranges')"
   ]
  },
  {
   "cell_type": "code",
   "execution_count": 30,
   "id": "2e6c8969-a305-4e01-9829-2710a6b22631",
   "metadata": {},
   "outputs": [
    {
     "data": {
      "text/plain": [
       "['Banana',\n",
       " 'cherry',\n",
       " 'mango',\n",
       " 'oranges',\n",
       " 'oranges',\n",
       " 'oranges',\n",
       " 'oranges',\n",
       " 'oranges']"
      ]
     },
     "execution_count": 30,
     "metadata": {},
     "output_type": "execute_result"
    }
   ],
   "source": [
    "fruits"
   ]
  },
  {
   "cell_type": "code",
   "execution_count": 33,
   "id": "ee8af516-7a36-4092-9388-7f8224fbefbd",
   "metadata": {},
   "outputs": [],
   "source": [
    "fruits.remove('oranges')"
   ]
  },
  {
   "cell_type": "code",
   "execution_count": 34,
   "id": "852db802-23b5-4a38-bb38-dfead32d68d7",
   "metadata": {},
   "outputs": [
    {
     "data": {
      "text/plain": [
       "['Banana', 'cherry', 'mango', 'oranges', 'oranges']"
      ]
     },
     "execution_count": 34,
     "metadata": {},
     "output_type": "execute_result"
    }
   ],
   "source": [
    "fruits"
   ]
  },
  {
   "cell_type": "code",
   "execution_count": 35,
   "id": "8f4f0351-c39b-40eb-819f-7d86e798778c",
   "metadata": {},
   "outputs": [],
   "source": [
    "#Remove item from list"
   ]
  },
  {
   "cell_type": "code",
   "execution_count": 36,
   "id": "fa975d9f-c9b5-4642-8242-38a564a8f58e",
   "metadata": {},
   "outputs": [],
   "source": [
    "fruits.remove('oranges')"
   ]
  },
  {
   "cell_type": "code",
   "execution_count": 37,
   "id": "a7c74dab-a5e9-4ca5-a216-dcc22f30ecb5",
   "metadata": {},
   "outputs": [
    {
     "data": {
      "text/plain": [
       "['Banana', 'cherry', 'mango', 'oranges']"
      ]
     },
     "execution_count": 37,
     "metadata": {},
     "output_type": "execute_result"
    }
   ],
   "source": [
    "fruits"
   ]
  },
  {
   "cell_type": "code",
   "execution_count": 42,
   "id": "0fb14287-07e9-455c-84fa-a5ec132f7b91",
   "metadata": {},
   "outputs": [],
   "source": [
    "fruits.append('strawberry')"
   ]
  },
  {
   "cell_type": "code",
   "execution_count": 43,
   "id": "0a1a32de-2ecc-439c-96fd-2ec77c135ab0",
   "metadata": {},
   "outputs": [
    {
     "data": {
      "text/plain": [
       "['Banana',\n",
       " 'cherry',\n",
       " 'mango',\n",
       " 'oranges',\n",
       " 'strawberry',\n",
       " 'strawberry',\n",
       " 'strawberry']"
      ]
     },
     "execution_count": 43,
     "metadata": {},
     "output_type": "execute_result"
    }
   ],
   "source": [
    "fruits"
   ]
  },
  {
   "cell_type": "code",
   "execution_count": 45,
   "id": "6780347b-065e-4463-bdac-c00b8e5c1314",
   "metadata": {},
   "outputs": [],
   "source": [
    "#del statement to remove an element from specific index"
   ]
  },
  {
   "cell_type": "code",
   "execution_count": 46,
   "id": "580c12ca-ecd0-4c41-8037-4a8ed439c46b",
   "metadata": {},
   "outputs": [],
   "source": [
    "del fruits[5:6]"
   ]
  },
  {
   "cell_type": "code",
   "execution_count": 47,
   "id": "edd6e622-38db-4682-8ac1-43214711f5db",
   "metadata": {},
   "outputs": [
    {
     "data": {
      "text/plain": [
       "['Banana', 'cherry', 'mango', 'oranges', 'strawberry', 'strawberry']"
      ]
     },
     "execution_count": 47,
     "metadata": {},
     "output_type": "execute_result"
    }
   ],
   "source": [
    "fruits"
   ]
  },
  {
   "cell_type": "code",
   "execution_count": 49,
   "id": "754f76af-e781-4f93-9c9d-1ac4e7c88697",
   "metadata": {},
   "outputs": [],
   "source": [
    "del fruits[5]"
   ]
  },
  {
   "cell_type": "code",
   "execution_count": 50,
   "id": "5db2038a-ab66-41f5-a3fc-79e206849240",
   "metadata": {},
   "outputs": [
    {
     "data": {
      "text/plain": [
       "['Banana', 'cherry', 'mango', 'oranges', 'strawberry']"
      ]
     },
     "execution_count": 50,
     "metadata": {},
     "output_type": "execute_result"
    }
   ],
   "source": [
    "fruits"
   ]
  },
  {
   "cell_type": "code",
   "execution_count": 51,
   "id": "534b35ff-5ee0-4092-a648-167c5307b51b",
   "metadata": {},
   "outputs": [],
   "source": [
    "#Python list length"
   ]
  },
  {
   "cell_type": "code",
   "execution_count": 52,
   "id": "32618255-fe2d-4798-a951-475a71f96e70",
   "metadata": {},
   "outputs": [],
   "source": [
    "#We can use len() function to find number of elements in list"
   ]
  },
  {
   "cell_type": "code",
   "execution_count": 53,
   "id": "c5bfc6a2-0c09-4422-97d8-c38b3e48d9e6",
   "metadata": {},
   "outputs": [],
   "source": [
    "length_of_fruits_baskets = len(fruits)"
   ]
  },
  {
   "cell_type": "code",
   "execution_count": 54,
   "id": "4a49b5a1-0827-40e1-a022-a2bf60d85620",
   "metadata": {},
   "outputs": [
    {
     "data": {
      "text/plain": [
       "5"
      ]
     },
     "execution_count": 54,
     "metadata": {},
     "output_type": "execute_result"
    }
   ],
   "source": [
    "length_of_fruits_baskets"
   ]
  },
  {
   "cell_type": "code",
   "execution_count": 55,
   "id": "8eba3402-202a-49b0-ac62-6f4cfa1dadf7",
   "metadata": {},
   "outputs": [],
   "source": [
    "#Iterating through the list"
   ]
  },
  {
   "cell_type": "code",
   "execution_count": 57,
   "id": "c6cadc28-27ad-492a-96bd-82c055db5525",
   "metadata": {},
   "outputs": [
    {
     "name": "stdout",
     "output_type": "stream",
     "text": [
      "Banana\n",
      "cherry\n",
      "mango\n",
      "oranges\n",
      "strawberry\n"
     ]
    }
   ],
   "source": [
    "for fruit in fruits:\n",
    "    print(fruit)"
   ]
  },
  {
   "cell_type": "code",
   "execution_count": null,
   "id": "b17fc8d3-e4ef-46a2-8eb3-358190e0ca72",
   "metadata": {},
   "outputs": [],
   "source": [
    "#__Python list methods__"
   ]
  },
  {
   "cell_type": "code",
   "execution_count": 62,
   "id": "2bc96d21-dae6-4eff-be92-57941872e315",
   "metadata": {},
   "outputs": [],
   "source": [
    "#\n",
    "#append() - adds elements to the end of the list\n",
    "#extend() - Adds items of lists and other iterables to the end of the list\n",
    "#pop() - Returns and removes item present at the given index\n",
    "#clear() - Removes all items from the list\n",
    "#count() - Returns the count of the specified item in the list\n",
    "#index() - Returns the index of the first matched item\n",
    "#sort() - Sorts the list in ascending/descending order\n",
    "#reverse() - Reverses the item of the list\n",
    "#copy() - Returns the shallow copy of the list"
   ]
  },
  {
   "cell_type": "code",
   "execution_count": 63,
   "id": "bebd8bda-656c-425e-a58f-8a586cc8428a",
   "metadata": {},
   "outputs": [],
   "source": [
    "#List Comprehension in python"
   ]
  },
  {
   "cell_type": "code",
   "execution_count": 64,
   "id": "14e5b102-2917-4f82-9de7-d6f9e31d6ae5",
   "metadata": {},
   "outputs": [],
   "source": [
    "#Example - We use 'in' keyword to check if element exists in list"
   ]
  },
  {
   "cell_type": "code",
   "execution_count": 65,
   "id": "f06a1700-055b-41ec-81e3-b7083aeffd18",
   "metadata": {},
   "outputs": [
    {
     "name": "stdout",
     "output_type": "stream",
     "text": [
      "False\n"
     ]
    }
   ],
   "source": [
    "print('lichi' in fruits)"
   ]
  },
  {
   "cell_type": "code",
   "execution_count": 66,
   "id": "be167f90-cd85-4dca-8ee8-46cb1e7277d8",
   "metadata": {},
   "outputs": [
    {
     "name": "stdout",
     "output_type": "stream",
     "text": [
      "True\n"
     ]
    }
   ],
   "source": [
    "print('Banana' in fruits)"
   ]
  },
  {
   "cell_type": "code",
   "execution_count": 68,
   "id": "bea267d5-20ff-4118-b946-54b64ad2f626",
   "metadata": {},
   "outputs": [],
   "source": [
    "#🚩Program to check largest number in list"
   ]
  },
  {
   "cell_type": "code",
   "execution_count": 75,
   "id": "ac90f116-85ea-4111-adee-80f316b84224",
   "metadata": {},
   "outputs": [],
   "source": [
    "def findLargest(numbers):\n",
    "    numbers.sort()\n",
    "    print(numbers[-1])\n"
   ]
  },
  {
   "cell_type": "code",
   "execution_count": 73,
   "id": "d076d010-443e-4754-8d59-805ed8adc37c",
   "metadata": {},
   "outputs": [],
   "source": [
    "numbers=[45,32,65,1,53,44,32]"
   ]
  },
  {
   "cell_type": "code",
   "execution_count": 76,
   "id": "cb72ee6e-0e9d-4669-83ac-fb94839353f3",
   "metadata": {},
   "outputs": [
    {
     "name": "stdout",
     "output_type": "stream",
     "text": [
      "65\n"
     ]
    }
   ],
   "source": [
    "findLargest(numbers)"
   ]
  },
  {
   "cell_type": "code",
   "execution_count": null,
   "id": "78b4c748-c04a-4f4c-a173-cf23293ddc49",
   "metadata": {},
   "outputs": [],
   "source": []
  }
 ],
 "metadata": {
  "kernelspec": {
   "display_name": "Python 3 (ipykernel)",
   "language": "python",
   "name": "python3"
  },
  "language_info": {
   "codemirror_mode": {
    "name": "ipython",
    "version": 3
   },
   "file_extension": ".py",
   "mimetype": "text/x-python",
   "name": "python",
   "nbconvert_exporter": "python",
   "pygments_lexer": "ipython3",
   "version": "3.13.1"
  }
 },
 "nbformat": 4,
 "nbformat_minor": 5
}
